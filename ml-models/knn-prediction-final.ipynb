{
 "cells": [
  {
   "cell_type": "code",
   "execution_count": null,
   "metadata": {},
   "outputs": [],
   "source": [
    "import numpy as np\n",
    "import pandas as pd\n",
    "import matplotlib.pyplot as plt\n",
    "import seaborn as sns\n",
    "from sklearn.model_selection import train_test_split\n",
    "from sklearn.neighbors import KNeighborsRegressor\n",
    "from sklearn.metrics import mean_squared_error, r2_score\n"
   ]
  },
  {
   "cell_type": "code",
   "execution_count": null,
   "metadata": {},
   "outputs": [],
   "source": [
    "# Load the data into a pandas DataFrame\n",
    "data = {\n",
    "    'Highest Temperature': [25, 26, 24, 27, 25, 26, 24, 27, 25, 26, 24, 27, 25, 26, 24, 27],\n",
    "    'Lowest Temperature': [10, 12, 11, 13, 10, 12, 11, 13, 10, 12, 11, 13, 10, 12, 11, 13],\n",
    "    'Rainfall': [400, 380, 410, 390, 400, 380, 410, 390, 400, 380, 410, 390, 400, 380, 410, 390],\n",
    "    'Humidity': [60, 62, 58, 63, 60, 62, 58, 63, 60, 62, 58, 63, 60, 62, 58, 63],\n",
    "    'Crop Yield': [2500, 2550, 2450, 2600, 2500, 2550, 2450, 2600, 2500, 2550, 2450, 2600, 2500, 2550, 2450, 2600],\n",
    "    'Irrigation Frequency': [15, 16, 14, 17, 15, 16, 14, 17, 15, 16, 14, 17, 15, 16, 14, 17]\n",
    "}"
   ]
  },
  {
   "cell_type": "code",
   "execution_count": null,
   "metadata": {},
   "outputs": [],
   "source": [
    "df = pd.DataFrame(data)"
   ]
  },
  {
   "cell_type": "code",
   "execution_count": null,
   "metadata": {},
   "outputs": [],
   "source": [
    "# Separate the features and target variables\n",
    "X = df[['Highest Temperature', 'Lowest Temperature', 'Rainfall', 'Humidity']]\n",
    "y_yield = df['Crop Yield']\n",
    "y_irrigation = df['Irrigation Frequency']"
   ]
  },
  {
   "cell_type": "code",
   "execution_count": null,
   "metadata": {},
   "outputs": [],
   "source": [
    "# Split the data into training and testing sets\n",
    "X_train, X_test, y_yield_train, y_yield_test, y_irrigation_train, y_irrigation_test = train_test_split(X, y_yield, y_irrigation, test_size=0.2, random_state=42)"
   ]
  },
  {
   "cell_type": "code",
   "execution_count": null,
   "metadata": {},
   "outputs": [],
   "source": [
    "# Train the K Nearest Neighbors model for Crop Yield prediction\n",
    "yield_model = KNeighborsRegressor(n_neighbors=3)\n",
    "yield_model.fit(X_train, y_yield_train)\n"
   ]
  },
  {
   "cell_type": "code",
   "execution_count": null,
   "metadata": {},
   "outputs": [],
   "source": [
    "# Train the K Nearest Neighbors model for Irrigation Frequency prediction\n",
    "irrigation_model = KNeighborsRegressor(n_neighbors=3)\n",
    "irrigation_model.fit(X_train, y_irrigation_train)"
   ]
  },
  {
   "cell_type": "code",
   "execution_count": null,
   "metadata": {},
   "outputs": [],
   "source": [
    "# Make predictions for Crop Yield\n",
    "yield_prediction_train = yield_model.predict(X_train)\n",
    "yield_prediction_test = yield_model.predict(X_test)"
   ]
  },
  {
   "cell_type": "code",
   "execution_count": null,
   "metadata": {},
   "outputs": [],
   "source": [
    "\n",
    "# Calculate R-squared (r2) and Mean Squared Error (MSE) for Crop Yield\n",
    "r2_yield_train = r2_score(y_yield_train, yield_prediction_train)\n",
    "mse_yield_train = mean_squared_error(y_yield_train, yield_prediction_train)\n",
    "print(\"Crop Yield (Train) - R2:\", r2_yield_train)\n",
    "print(\"Crop Yield (Train) - MSE:\", mse_yield_train)"
   ]
  },
  {
   "cell_type": "code",
   "execution_count": null,
   "metadata": {},
   "outputs": [],
   "source": [
    "r2_yield_test = r2_score(y_yield_test, yield_prediction_test)\n",
    "mse_yield_test = mean_squared_error(y_yield_test, yield_prediction_test)\n",
    "print(\"Crop Yield (Test) - R2:\", r2_yield_test)\n",
    "print(\"Crop Yield (Test) - MSE:\", mse_yield_test)"
   ]
  },
  {
   "cell_type": "code",
   "execution_count": null,
   "metadata": {},
   "outputs": [],
   "source": [
    "# Plot regression plots for Crop Yield\n",
    "results = pd.DataFrame({'Actual': y_yield_test, 'Predicted': yield_prediction_test})\n",
    "# Create a regression plot\n",
    "sns.regplot(x='Actual', y='Predicted', data=results)\n",
    "\n",
    "# Set plot labels\n",
    "plt.xlabel('Actual Crop Yield')\n",
    "plt.ylabel('Predicted Crop Yield')\n",
    "plt.title('Regression Plot')\n",
    "\n",
    "# Show the plot\n",
    "plt.show()"
   ]
  },
  {
   "cell_type": "code",
   "execution_count": null,
   "metadata": {},
   "outputs": [],
   "source": [
    "# New data for prediction\n",
    "new_data = {\n",
    "    'Highest Temperature': [26],\n",
    "    'Lowest Temperature': [12],\n",
    "    'Rainfall': [380],\n",
    "    'Humidity': [62]\n",
    "}\n",
    "\n",
    "# Convert the new data to a DataFrame\n",
    "new_df = pd.DataFrame(new_data)\n",
    "\n",
    "# Make predictions for Crop Yield and Irrigation Frequency\n",
    "yield_prediction = yield_model.predict(new_df)\n",
    "irrigation_prediction = irrigation_model.predict(new_df)\n",
    "\n",
    "print(\"Crop Yield Prediction:\", yield_prediction[0])\n",
    "print(\"Irrigation Frequency Prediction:\", irrigation_prediction[0])"
   ]
  }
 ],
 "metadata": {
  "kernelspec": {
   "display_name": "base",
   "language": "python",
   "name": "python3"
  },
  "language_info": {
   "codemirror_mode": {
    "name": "ipython",
    "version": 3
   },
   "file_extension": ".py",
   "mimetype": "text/x-python",
   "name": "python",
   "nbconvert_exporter": "python",
   "pygments_lexer": "ipython3",
   "version": "3.10.9"
  },
  "orig_nbformat": 4
 },
 "nbformat": 4,
 "nbformat_minor": 2
}
