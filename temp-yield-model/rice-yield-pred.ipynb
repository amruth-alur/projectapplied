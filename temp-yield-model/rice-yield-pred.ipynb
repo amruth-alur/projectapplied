{
 "cells": [
  {
   "cell_type": "code",
   "execution_count": 32,
   "metadata": {},
   "outputs": [],
   "source": [
    "import numpy as np\n",
    "from scipy.optimize import curve_fit\n",
    "import matplotlib.pyplot as plt\n",
    "from sklearn.metrics import r2_score, mean_squared_error\n",
    "from sklearn.preprocessing import MinMaxScaler"
   ]
  },
  {
   "cell_type": "code",
   "execution_count": 33,
   "metadata": {},
   "outputs": [],
   "source": [
    "# Temperature data\n",
    "temperature_data = [24.982851239669422, 25.005619834710743, 25.211735537190087, 24.42123966942149, 25.097479338842973,\n",
    "                    24.49202479338843, 25.3498347107438, 25.05004132231405, 24.63012396694215, 25.29876033057851,\n",
    "                    25.61177685950413, 24.936983471074385, 24.649173553719006, 24.79801652892562, 24.629173553719006,\n",
    "                    24.62157024793389]"
   ]
  },
  {
   "cell_type": "code",
   "execution_count": 34,
   "metadata": {},
   "outputs": [],
   "source": [
    "# Yield data\n",
    "yield_data = [37927.229999999996, 37843.04, 37883.9, 39470.14, 42106.15, 41190.67, 41183.520000000004, 42991.4,\n",
    "              43144.880000000005, 43190.92, 41829.31, 41196.979999999996, 43074.21, 42166.969999999994, 41140.299999999996,\n",
    "              43410.14]"
   ]
  },
  {
   "cell_type": "code",
   "execution_count": 35,
   "metadata": {},
   "outputs": [],
   "source": [
    "# Normalize temperature data\n",
    "temperature_scaler = MinMaxScaler()\n",
    "temperature_scaled = temperature_scaler.fit_transform(np.array(temperature_data).reshape(-1, 1))"
   ]
  },
  {
   "cell_type": "code",
   "execution_count": 36,
   "metadata": {},
   "outputs": [],
   "source": [
    "# Normalize yield data\n",
    "yield_scaler = MinMaxScaler()\n",
    "yield_scaled = yield_scaler.fit_transform(np.array(yield_data).reshape(-1, 1))"
   ]
  },
  {
   "cell_type": "code",
   "execution_count": 37,
   "metadata": {},
   "outputs": [],
   "source": [
    "# Define the equation\n",
    "def yield_model(temperature, Ymax, Topt, sigma):\n",
    "    return Ymax * np.exp(-((temperature - Topt) / sigma) ** 2)"
   ]
  },
  {
   "cell_type": "code",
   "execution_count": 38,
   "metadata": {},
   "outputs": [],
   "source": [
    "\n",
    "# Provide initial parameter values closer to the expected optimal values\n",
    "initial_params = [1.0, 25.0, 1.0]"
   ]
  },
  {
   "cell_type": "code",
   "execution_count": 39,
   "metadata": {},
   "outputs": [
    {
     "name": "stderr",
     "output_type": "stream",
     "text": [
      "c:\\Users\\User\\anaconda3\\lib\\site-packages\\scipy\\optimize\\_minpack_py.py:906: OptimizeWarning: Covariance of the parameters could not be estimated\n",
      "  warnings.warn('Covariance of the parameters could not be estimated',\n"
     ]
    }
   ],
   "source": [
    "# Fit the model to the data\n",
    "popt, pcov = curve_fit(yield_model, temperature_scaled.flatten(), yield_scaled.flatten(), p0=initial_params)"
   ]
  },
  {
   "cell_type": "code",
   "execution_count": 40,
   "metadata": {},
   "outputs": [],
   "source": [
    "\n",
    "# Extract the optimized parameters\n",
    "Ymax_opt, Topt_opt, sigma_opt = popt"
   ]
  },
  {
   "cell_type": "code",
   "execution_count": 41,
   "metadata": {},
   "outputs": [],
   "source": [
    "# Generate temperature values for the curve\n",
    "temperature_curve = np.linspace(min(temperature_scaled), max(temperature_scaled), len(temperature_scaled))"
   ]
  },
  {
   "cell_type": "code",
   "execution_count": 42,
   "metadata": {},
   "outputs": [],
   "source": [
    "# Predict yield using the optimized parameters\n",
    "yield_curve = yield_model(temperature_curve, Ymax_opt, Topt_opt, sigma_opt)"
   ]
  },
  {
   "cell_type": "code",
   "execution_count": 43,
   "metadata": {},
   "outputs": [],
   "source": [
    "# Normalize the yield curve\n",
    "yield_curve_scaled = yield_scaler.transform(yield_curve.reshape(-1, 1))"
   ]
  },
  {
   "cell_type": "code",
   "execution_count": 44,
   "metadata": {},
   "outputs": [],
   "source": [
    "# Inverse scale the data to obtain original values\n",
    "temperature_scaled = temperature_scaler.inverse_transform(temperature_scaled)\n",
    "yield_scaled = yield_scaler.inverse_transform(yield_scaled)\n",
    "yield_curve = yield_scaler.inverse_transform(yield_curve_scaled)"
   ]
  },
  {
   "cell_type": "code",
   "execution_count": 45,
   "metadata": {},
   "outputs": [],
   "source": [
    "# Calculate R-squared value\n",
    "r2 = r2_score(yield_data, yield_curve.flatten())"
   ]
  },
  {
   "cell_type": "code",
   "execution_count": 46,
   "metadata": {},
   "outputs": [],
   "source": [
    "# Calculate root mean square error (RMSE)\n",
    "rmse = np.sqrt(mean_squared_error(yield_data, yield_curve.flatten()))"
   ]
  },
  {
   "cell_type": "code",
   "execution_count": 47,
   "metadata": {},
   "outputs": [
    {
     "data": {
      "image/png": "[encoded data removed]",
      "text/plain": [
       "<Figure size 640x480 with 1 Axes>"
      ]
     },
     "metadata": {},
     "output_type": "display_data"
    }
   ],
   "source": [
    "# Plot the predicted curve and actual data\n",
    "plt.plot(temperature_scaled, yield_curve, label='Predicted Yield')\n",
    "plt.scatter(temperature_scaled, yield_data, color='red', label='Actual Yield')\n",
    "plt.xlabel('Temperature')\n",
    "plt.ylabel('Yield')\n",
    "plt.title('Yield vs Temperature')\n",
    "plt.legend()\n",
    "plt.show()"
   ]
  },
  {
   "cell_type": "code",
   "execution_count": 48,
   "metadata": {},
   "outputs": [
    {
     "name": "stdout",
     "output_type": "stream",
     "text": [
      "R-squared value: -473.4555058759821\n",
      "Root Mean Square Error (RMSE): 41277.883213227666\n"
     ]
    }
   ],
   "source": [
    "print(\"R-squared value:\", r2)\n",
    "print(\"Root Mean Square Error (RMSE):\", rmse)"
   ]
  }
 ],
 "metadata": {
  "kernelspec": {
   "display_name": "base",
   "language": "python",
   "name": "python3"
  },
  "language_info": {
   "codemirror_mode": {
    "name": "ipython",
    "version": 3
   },
   "file_extension": ".py",
   "mimetype": "text/x-python",
   "name": "python",
   "nbconvert_exporter": "python",
   "pygments_lexer": "ipython3",
   "version": "3.10.9"
  },
  "orig_nbformat": 4
 },
 "nbformat": 4,
 "nbformat_minor": 2
}
